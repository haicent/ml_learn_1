{
 "cells": [
  {
   "cell_type": "markdown",
   "id": "763420b9-b713-460b-a0db-b29f938cf97a",
   "metadata": {},
   "source": [
    "# sklearn 实现逻辑回归"
   ]
  },
  {
   "cell_type": "markdown",
   "id": "75b70be4-a62f-4037-be9c-e99ec6ea6bb4",
   "metadata": {},
   "source": [
    "## 准备数据"
   ]
  },
  {
   "cell_type": "code",
   "execution_count": 18,
   "id": "f2340d41-ca49-4b7b-ad5d-6d9042a1de68",
   "metadata": {},
   "outputs": [],
   "source": [
    "import sklearn.datasets\n",
    "import numpy as np\n",
    "import matplotlib.pyplot as plt"
   ]
  },
  {
   "cell_type": "code",
   "execution_count": 7,
   "id": "b7eeaeac-38df-4ae8-8251-2f79add6148f",
   "metadata": {},
   "outputs": [],
   "source": [
    "np.random.seed(1)"
   ]
  },
  {
   "cell_type": "code",
   "execution_count": 10,
   "id": "e1341c9d-ec09-49e9-bc2d-30bbdd4c5a6e",
   "metadata": {},
   "outputs": [],
   "source": [
    "# 导入make_moon数据集，样本数量m=200，噪声标准差位0.2\n",
    "X, Y = sklearn.datasets.make_moons(n_samples=200, noise=.2)\n",
    "# X shape: [2,200]，Y shape: [1,200]　　　\n",
    "X, Y = X.T, Y.reshape(1, Y.shape[0])"
   ]
  },
  {
   "cell_type": "code",
   "execution_count": 12,
   "id": "1f45e697-c497-47c0-88a5-4dd3a76a1791",
   "metadata": {},
   "outputs": [
    {
     "data": {
      "text/plain": [
       "array([[1, 0, 1, 0, 0, 0, 1, 1, 1, 0, 0, 1, 0, 0, 0, 1, 0, 1, 1, 1, 1, 1,\n",
       "        1, 0, 1, 0, 0, 1, 0, 1, 0, 1, 0, 0, 1, 1, 0, 1, 1, 1, 1, 1, 1, 1,\n",
       "        1, 0, 0, 0, 1, 1, 0, 0, 0, 0, 0, 0, 1, 1, 1, 0, 0, 0, 0, 0, 0, 0,\n",
       "        1, 0, 1, 1, 0, 0, 0, 1, 0, 0, 1, 1, 0, 1, 1, 1, 1, 1, 0, 0, 1, 0,\n",
       "        0, 1, 1, 1, 0, 0, 1, 1, 1, 1, 0, 0, 1, 0, 1, 1, 1, 0, 1, 0, 0, 1,\n",
       "        1, 0, 0, 0, 0, 0, 0, 1, 0, 0, 0, 0, 0, 1, 0, 1, 1, 1, 0, 0, 1, 1,\n",
       "        0, 1, 1, 1, 0, 0, 1, 1, 1, 1, 1, 1, 1, 1, 1, 1, 1, 0, 0, 1, 0, 0,\n",
       "        1, 0, 0, 1, 1, 0, 1, 1, 0, 0, 1, 1, 1, 1, 1, 1, 0, 0, 0, 0, 0, 0,\n",
       "        1, 1, 0, 0, 0, 0, 1, 1, 0, 0, 0, 0, 0, 0, 0, 0, 1, 0, 1, 1, 1, 0,\n",
       "        0, 1]])"
      ]
     },
     "execution_count": 12,
     "metadata": {},
     "output_type": "execute_result"
    }
   ],
   "source": [
    "Y"
   ]
  },
  {
   "cell_type": "code",
   "execution_count": 14,
   "id": "188f511b-35b9-4376-98bd-f3a9adf4f005",
   "metadata": {},
   "outputs": [
    {
     "data": {
      "text/plain": [
       "array([[ 5.79929675e-01, -9.26516953e-01,  1.51313355e+00,\n",
       "        -4.76142939e-01,  1.06739771e+00,  4.11844841e-01,\n",
       "         1.95736508e+00,  1.45476247e+00,  9.40849288e-01,\n",
       "         1.14315693e+00, -2.34856031e-02, -8.72501429e-02,\n",
       "         1.07173668e+00,  8.07669253e-01,  7.94622437e-01,\n",
       "         6.78057586e-01,  8.50674457e-01,  1.75158662e+00,\n",
       "         6.65602270e-01,  4.29469804e-01,  8.57126331e-01,\n",
       "         1.44050591e+00,  1.51722967e+00,  2.70862858e-01,\n",
       "         1.98643722e+00, -5.93198291e-01,  1.07469358e-01,\n",
       "         1.27706833e+00, -7.30853506e-01,  1.70042442e+00,\n",
       "         1.49005781e+00,  2.99807989e-01, -9.30232962e-01,\n",
       "         6.62042954e-01, -2.92173840e-01,  2.23258714e-01,\n",
       "         1.84573555e-01,  1.24686697e+00,  1.90524071e+00,\n",
       "         8.48813383e-01, -1.67475356e-02,  9.33243722e-02,\n",
       "         2.27691326e+00,  3.87677752e-01,  1.54318432e+00,\n",
       "        -1.38214200e-01,  2.63424482e-01,  3.71773189e-03,\n",
       "         1.62812667e+00,  2.06729465e-01, -1.28762193e+00,\n",
       "        -7.28205545e-01,  8.41365587e-01, -7.81826240e-01,\n",
       "         2.60577608e-03, -5.37475117e-01,  1.45592765e+00,\n",
       "         5.75311443e-01, -1.05678187e-01,  6.14600506e-01,\n",
       "         5.45401869e-01, -5.25512015e-01, -1.28160330e+00,\n",
       "        -8.33017913e-01, -6.51597059e-01,  3.37717774e-01,\n",
       "         9.98250036e-01, -7.58616826e-01,  1.88292123e-01,\n",
       "         4.76376300e-01, -3.55534882e-01,  3.65074985e-01,\n",
       "        -6.83882686e-01,  1.68633066e+00,  2.88038926e-02,\n",
       "         9.00170968e-01,  1.79181966e+00, -1.10226535e-01,\n",
       "        -9.36528049e-01,  4.95170380e-01,  2.89156792e-01,\n",
       "         1.21348610e+00,  1.97330357e+00,  1.65596343e+00,\n",
       "         2.46752517e-01, -6.09660678e-01,  5.27019919e-01,\n",
       "        -5.09447230e-01,  5.95310711e-01,  1.89763509e+00,\n",
       "         1.27419654e+00,  1.93634761e+00,  7.12894098e-01,\n",
       "        -8.08858656e-01,  1.95558461e+00,  2.04783972e-01,\n",
       "        -2.28593780e-02,  2.32034154e-01,  7.90796600e-01,\n",
       "         9.21130161e-01,  2.85330431e-01,  5.26362187e-01,\n",
       "        -1.07365259e-01,  5.19349150e-01,  2.10649604e-01,\n",
       "         1.06685411e+00,  2.00523788e+00, -7.31847849e-01,\n",
       "         3.52893375e-01,  1.65132492e+00,  3.16019318e-01,\n",
       "         3.09275675e-01,  5.94671062e-02, -7.76711411e-01,\n",
       "        -2.53017127e-01, -1.13347573e+00, -5.17407718e-01,\n",
       "         1.83097927e+00,  8.07483201e-01,  5.70255976e-01,\n",
       "        -6.33596251e-01,  7.95534945e-01,  1.24434827e+00,\n",
       "        -4.58711105e-02,  1.19912511e+00,  1.45709609e+00,\n",
       "         1.66542253e+00,  2.59363666e-01,  1.14199973e+00,\n",
       "        -3.92877068e-01,  6.16509981e-01,  2.45737244e-01,\n",
       "        -1.66802195e-01,  5.28677345e-01,  1.36481412e+00,\n",
       "         1.38037743e+00, -7.41463008e-01, -1.06618680e+00,\n",
       "        -2.72761286e-01,  9.16878254e-01,  9.17999755e-02,\n",
       "         9.09762704e-01,  1.64973724e+00,  2.20707155e-01,\n",
       "         4.94593310e-01,  1.68216949e+00,  1.12108407e+00,\n",
       "         1.16237609e+00,  1.29228595e+00,  1.22049814e+00,\n",
       "        -4.71225620e-01,  4.36426822e-01, -1.02891564e+00,\n",
       "        -2.85386586e-02,  1.54218849e+00,  2.21296982e-02,\n",
       "         1.03710243e-01,  1.95577738e-01,  1.61305597e+00,\n",
       "         6.62156958e-01,  1.20952502e+00,  2.00230115e+00,\n",
       "        -1.04278939e-01, -7.80100717e-01,  1.60277978e+00,\n",
       "         1.90754705e+00,  8.46310283e-01,  1.32750906e+00,\n",
       "         4.38952804e-01,  1.77482762e+00,  7.75554552e-01,\n",
       "         8.90499500e-01,  8.44738132e-01, -9.77560308e-01,\n",
       "         1.10998810e-01,  8.82095443e-01,  2.07570631e+00,\n",
       "         1.53213634e+00,  2.06215690e-02, -3.89127072e-01,\n",
       "         3.47797062e-01, -7.73412637e-01,  1.70627270e+00,\n",
       "         1.48568914e+00, -6.73269837e-01,  8.33030030e-01,\n",
       "         4.10913190e-01, -1.19737133e+00,  9.89037892e-01,\n",
       "        -9.33944444e-01, -9.45864350e-01, -5.00971149e-01,\n",
       "         2.57254273e-01,  5.71829300e-01,  6.29825343e-01,\n",
       "         2.23246679e+00,  2.36472406e-01,  2.65978609e-01,\n",
       "         8.34257583e-01,  2.56101656e-01],\n",
       "       [-4.60260042e-01,  2.66785902e-01,  5.49652242e-02,\n",
       "         5.73989173e-01,  5.06502550e-01,  6.51750737e-01,\n",
       "         3.93540208e-01, -7.39646040e-01,  4.57071757e-02,\n",
       "         1.51924280e-02,  9.71931425e-01,  1.50433326e-01,\n",
       "        -3.01758956e-01,  7.06752321e-01,  9.86965662e-01,\n",
       "        -7.09016415e-01,  5.13540995e-01,  4.95882531e-01,\n",
       "        -3.63306204e-01, -5.83339712e-01, -4.91822613e-01,\n",
       "        -4.35864606e-01, -4.92619577e-01,  7.87557072e-01,\n",
       "        -1.90830608e-02,  1.01128135e+00,  1.40562283e+00,\n",
       "        -3.24986765e-01,  6.81690820e-01, -1.44207186e-01,\n",
       "        -3.64481902e-01,  9.24732877e-03,  6.03900060e-01,\n",
       "         3.46953375e-01,  2.18259124e-02, -2.80063803e-01,\n",
       "         1.01559791e+00, -4.61920190e-01, -3.69309131e-02,\n",
       "        -1.68327616e-01, -4.07212788e-02,  3.30209666e-02,\n",
       "         1.34322989e-01, -1.23647283e-01,  1.37669750e-04,\n",
       "         4.08323513e-01,  1.10241503e+00,  9.30914764e-01,\n",
       "        -3.14735848e-01, -4.54751337e-01,  1.62156340e-01,\n",
       "        -1.50837876e-01,  8.09440054e-02, -2.24934732e-01,\n",
       "         1.06914729e+00,  8.36246322e-01, -1.92588542e-01,\n",
       "        -7.23342294e-01,  4.17538505e-01,  7.28828652e-01,\n",
       "         5.42828785e-01,  7.21297719e-01,  1.52546332e-02,\n",
       "         6.55945233e-01,  1.30860805e+00,  4.90035822e-01,\n",
       "        -4.15354031e-01,  9.50457507e-01,  4.89136492e-01,\n",
       "        -3.20982997e-01,  6.93781227e-01,  6.76649269e-01,\n",
       "         5.35014328e-01,  2.13042874e-01,  9.75880463e-01,\n",
       "         2.84387500e-01,  2.35531314e-01,  6.87230593e-01,\n",
       "         2.36818077e-01, -8.18310365e-01,  2.45249996e-01,\n",
       "        -6.63057261e-01, -6.24318697e-02, -7.56406642e-02,\n",
       "         8.31017977e-01,  1.97968826e-01, -3.16295200e-01,\n",
       "         6.94883456e-01,  6.41980711e-01,  1.37668888e-01,\n",
       "        -3.69102840e-01,  5.44755153e-01,  5.86821356e-01,\n",
       "         9.19734060e-02,  5.71010139e-01,  6.41236439e-02,\n",
       "         1.80575901e-01, -4.66040612e-01,  4.47778638e-01,\n",
       "         5.85676394e-02, -1.11242205e-01,  6.39493673e-01,\n",
       "        -3.28503905e-01, -3.35765822e-01,  9.88404023e-02,\n",
       "         4.53642089e-01,  9.44482168e-02,  6.89793317e-01,\n",
       "         9.09215890e-01,  3.62014795e-01,  2.32549994e-01,\n",
       "         1.25129836e+00,  1.09463457e+00,  4.38029401e-01,\n",
       "         7.17377411e-01,  2.58368342e-01,  4.18359208e-01,\n",
       "         2.28941548e-01,  3.43428371e-01,  5.50600714e-01,\n",
       "         1.15691954e+00,  5.40378077e-01,  3.62407301e-01,\n",
       "         5.72385231e-01,  2.62198871e-01, -2.59150517e-01,\n",
       "         4.54134489e-01,  7.23497523e-01,  1.79604622e-01,\n",
       "         1.02045170e+00, -1.07173614e-02, -7.88332039e-01,\n",
       "         7.51301032e-01, -2.17277323e-01, -5.70161005e-01,\n",
       "        -5.50067865e-01,  3.96909109e-01,  3.24512614e-01,\n",
       "         4.18178652e-01, -3.40308676e-01,  2.23937697e-01,\n",
       "        -7.10789172e-01, -8.83577742e-03, -3.63725179e-01,\n",
       "        -1.61884208e-02,  4.07223667e-01, -5.27176663e-01,\n",
       "        -3.77688165e-01, -6.21887661e-01,  2.39288873e-01,\n",
       "         7.91022940e-01,  4.46380559e-01, -1.81653493e-01,\n",
       "         9.19205231e-01, -2.28671375e-01,  1.30367017e+00,\n",
       "         8.89412799e-01, -3.58697211e-01, -6.79767280e-01,\n",
       "         8.64988510e-01, -3.42981033e-01,  4.68079005e-02,\n",
       "         8.87790449e-01,  3.66403276e-01, -4.26645382e-01,\n",
       "         3.59458248e-01, -2.23818864e-01, -3.44637054e-01,\n",
       "        -4.73574640e-01,  1.48051079e-01,  7.23038715e-01,\n",
       "         6.47204426e-01,  8.45012975e-01,  3.34053451e-01,\n",
       "         9.52778616e-01,  5.77381018e-01,  2.69420730e-02,\n",
       "        -2.21077447e-01,  1.07170148e+00,  7.36855054e-01,\n",
       "         1.32742694e+00,  4.96125339e-01, -4.99841534e-01,\n",
       "        -5.53027421e-01,  5.03476764e-01,  2.99193695e-01,\n",
       "         1.00105632e+00,  4.57334926e-01,  1.03938403e-01,\n",
       "         6.47694622e-01,  6.40657532e-01,  5.96828305e-01,\n",
       "        -1.91190935e-01,  8.24529737e-01, -1.37554489e-01,\n",
       "        -9.03229854e-02, -2.20771984e-01,  8.38111973e-01,\n",
       "         2.58264508e-01, -2.63554536e-01]])"
      ]
     },
     "execution_count": 14,
     "metadata": {},
     "output_type": "execute_result"
    }
   ],
   "source": [
    "X"
   ]
  },
  {
   "cell_type": "code",
   "execution_count": 34,
   "id": "c46003c9-1936-4b2c-abf0-4b6f953b6c3b",
   "metadata": {},
   "outputs": [
    {
     "data": {
      "text/plain": [
       "<matplotlib.collections.PathCollection at 0x7fc5ffd03fa0>"
      ]
     },
     "execution_count": 34,
     "metadata": {},
     "output_type": "execute_result"
    },
    {
     "data": {
      "image/png": "[encoded data removed]",
      "text/plain": [
       "<Figure size 432x288 with 1 Axes>"
      ]
     },
     "metadata": {
      "needs_background": "light"
     },
     "output_type": "display_data"
    }
   ],
   "source": [
    "# 负类　　　\n",
    "plt.scatter(X[0, Y[0,:]==0], X[1, Y[0,:]==0], c='r', marker='s')"
   ]
  },
  {
   "cell_type": "code",
   "execution_count": 32,
   "id": "4d5aef3c-438f-468e-afed-4ed39fe55200",
   "metadata": {},
   "outputs": [
    {
     "ename": "SyntaxError",
     "evalue": "invalid non-printable character U+3000 (2769746231.py, line 2)",
     "output_type": "error",
     "traceback": [
      "\u001b[0;36m  Input \u001b[0;32mIn [32]\u001b[0;36m\u001b[0m\n\u001b[0;31m    plt.scatter(X[0, Y[0,:]==1], X[1, Y[0,:]==1], c=\"b\", marker=\"o\")\u001b[0m\n\u001b[0m                                                                    ^\u001b[0m\n\u001b[0;31mSyntaxError\u001b[0m\u001b[0;31m:\u001b[0m invalid non-printable character U+3000\n"
     ]
    }
   ],
   "source": [
    "# 正类　　　\n",
    "plt.scatter(X[0, Y[0,:]==1], X[1, Y[0,:]==1], c=\"b\", marker=\"o\")　　　"
   ]
  },
  {
   "cell_type": "code",
   "execution_count": 35,
   "id": "681ad0ed-2935-431c-a1c4-111c1621bbca",
   "metadata": {},
   "outputs": [],
   "source": [
    "plt.show()"
   ]
  }
 ],
 "metadata": {
  "kernelspec": {
   "display_name": "Python 3 (ipykernel)",
   "language": "python",
   "name": "python3"
  },
  "language_info": {
   "codemirror_mode": {
    "name": "ipython",
    "version": 3
   },
   "file_extension": ".py",
   "mimetype": "text/x-python",
   "name": "python",
   "nbconvert_exporter": "python",
   "pygments_lexer": "ipython3",
   "version": "3.9.12"
  }
 },
 "nbformat": 4,
 "nbformat_minor": 5
}
