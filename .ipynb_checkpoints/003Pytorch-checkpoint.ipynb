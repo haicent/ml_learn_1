{
 "cells": [
  {
   "cell_type": "markdown",
   "id": "24f57829-c123-4cd8-a4a5-254b8dbd79c3",
   "metadata": {},
   "source": [
    "# pytorch\n",
    "\n",
    "## 先安装pytorch\n",
    "请在官网复制命令，并切换到你的py环境运行：\n",
    "```\n",
    "conda activate /Users/fy/opt/anaconda3/envs/jupyterlab\n",
    "conda install pytorch torchvision torchaudio -c pytorch\n",
    "```\n",
    "## 验证pytorch安装成功"
   ]
  },
  {
   "cell_type": "code",
   "execution_count": 5,
   "id": "e9c88d4f-29cd-44bc-b177-f25473ae2633",
   "metadata": {},
   "outputs": [
    {
     "name": "stdout",
     "output_type": "stream",
     "text": [
      "1.12.1\n"
     ]
    }
   ],
   "source": [
    "import torch\n",
    "import torchvision\n",
    "print(torch.__version__)"
   ]
  },
  {
   "cell_type": "markdown",
   "id": "6ae94947-ba09-4d73-8abe-7bbb99551698",
   "metadata": {},
   "source": [
    "## 张量\n",
    "### 张量创建"
   ]
  },
  {
   "cell_type": "code",
   "execution_count": 11,
   "id": "12b23097-00d6-44c4-97f9-84a305c0f5a0",
   "metadata": {},
   "outputs": [
    {
     "name": "stdout",
     "output_type": "stream",
     "text": [
      "tensor([[[ 0.7685],\n",
      "         [-0.5485]],\n",
      "\n",
      "        [[ 0.4496],\n",
      "         [ 0.1704]],\n",
      "\n",
      "        [[ 0.9912],\n",
      "         [-0.4395]]])\n"
     ]
    }
   ],
   "source": [
    "x = torch.randn(3, 2, 1)\n",
    "print(x)"
   ]
  },
  {
   "cell_type": "markdown",
   "id": "37054e0a-a2c1-484d-a184-84739adb4b7e",
   "metadata": {},
   "source": [
    "### 根据py列表创建张量"
   ]
  },
  {
   "cell_type": "code",
   "execution_count": 13,
   "id": "5d11c46c-295d-4765-a8bb-232309d67770",
   "metadata": {},
   "outputs": [
    {
     "name": "stdout",
     "output_type": "stream",
     "text": [
      "tensor([[2, 3],\n",
      "        [4, 5]])\n"
     ]
    }
   ],
   "source": [
    "x = torch.tensor([[2,3],[4,5]])\n",
    "print(x)"
   ]
  },
  {
   "cell_type": "markdown",
   "id": "060e67c5-3b98-4a18-8efe-72d98de8449e",
   "metadata": {},
   "source": [
    "### 创建全零张量"
   ]
  },
  {
   "cell_type": "code",
   "execution_count": 17,
   "id": "2625f8d3-f9df-430b-9a04-3ff8d42a16ef",
   "metadata": {},
   "outputs": [
    {
     "name": "stdout",
     "output_type": "stream",
     "text": [
      "tensor([[0., 0.],\n",
      "        [0., 0.]])\n"
     ]
    }
   ],
   "source": [
    "x = torch.zeros(2, 2)\n",
    "print(x)"
   ]
  },
  {
   "cell_type": "markdown",
   "id": "898c4d3f-5f84-4982-8d5c-a594f1483c2b",
   "metadata": {},
   "source": [
    "### 基于现有张量创建新的张量"
   ]
  },
  {
   "cell_type": "code",
   "execution_count": 22,
   "id": "dd5b47bb-1af2-48e7-b43b-617cdeace557",
   "metadata": {},
   "outputs": [
    {
     "name": "stdout",
     "output_type": "stream",
     "text": [
      "tensor([[0., 0.],\n",
      "        [0., 0.]])\n",
      "tensor([[1., 1.],\n",
      "        [1., 1.]])\n"
     ]
    }
   ],
   "source": [
    "x = torch.zeros(2, 2)\n",
    "y = torch.ones_like(x)\n",
    "print(x)\n",
    "print(y)"
   ]
  },
  {
   "cell_type": "markdown",
   "id": "f530f13b-28c4-4ad6-835b-6f64639e72e5",
   "metadata": {},
   "source": [
    "### 指定数据类型"
   ]
  },
  {
   "cell_type": "code",
   "execution_count": 25,
   "id": "276037fa-e827-4280-a069-4ae883282c9a",
   "metadata": {},
   "outputs": [
    {
     "name": "stdout",
     "output_type": "stream",
     "text": [
      "tensor([[1, 1],\n",
      "        [1, 1]], dtype=torch.int32)\n"
     ]
    }
   ],
   "source": [
    "x = torch.ones(2, 2, dtype=torch.int)\n",
    "print(x)"
   ]
  },
  {
   "cell_type": "markdown",
   "id": "5e1404b0-1c8c-4dd2-9363-c9d9a9714212",
   "metadata": {},
   "source": [
    "### 张量的数学运算"
   ]
  },
  {
   "cell_type": "code",
   "execution_count": 35,
   "id": "a0478a9d-379a-4b38-b16f-9706093202b8",
   "metadata": {},
   "outputs": [
    {
     "name": "stdout",
     "output_type": "stream",
     "text": [
      "tensor([[1., 1.],\n",
      "        [1., 1.]])\n",
      "tensor([[2., 2.],\n",
      "        [2., 2.]])\n"
     ]
    }
   ],
   "source": [
    "x = torch.ones(2,2)\n",
    "print(x)\n",
    "y = torch.ones(2,2)\n",
    "# z = x + y\n",
    "z = torch.add(x,y)\n",
    "print(z)"
   ]
  },
  {
   "cell_type": "markdown",
   "id": "66c69256-146c-43b9-839c-2c9311240070",
   "metadata": {},
   "source": [
    "### 张量的值相乘 "
   ]
  },
  {
   "cell_type": "code",
   "execution_count": 38,
   "id": "d19f972e-c881-4827-94a3-db4ce4d540c3",
   "metadata": {},
   "outputs": [
    {
     "data": {
      "text/plain": [
       "tensor([[1, 4],\n",
       "        [4, 9]])"
      ]
     },
     "execution_count": 38,
     "metadata": {},
     "output_type": "execute_result"
    }
   ],
   "source": [
    "x = torch.tensor([[1,2],[2,3]])\n",
    "y = torch.tensor([[1,2],[2,3]])\n",
    "x.mul(y)"
   ]
  },
  {
   "cell_type": "markdown",
   "id": "b1c4308a-0c10-4448-a9af-cbf633ce46fc",
   "metadata": {},
   "source": [
    "### 矩阵相乘"
   ]
  },
  {
   "cell_type": "code",
   "execution_count": 41,
   "id": "1ede2d95-a111-4706-9f2c-9989ecfa3a9f",
   "metadata": {},
   "outputs": [
    {
     "data": {
      "text/plain": [
       "tensor([[ 5,  8],\n",
       "        [ 8, 13]])"
      ]
     },
     "execution_count": 41,
     "metadata": {},
     "output_type": "execute_result"
    }
   ],
   "source": [
    "x.mm(y)"
   ]
  },
  {
   "cell_type": "markdown",
   "id": "79a90a88-d9ab-4b06-a98a-b354c4943414",
   "metadata": {},
   "source": [
    "### 张量转换为numpy数组"
   ]
  },
  {
   "cell_type": "code",
   "execution_count": 42,
   "id": "cfc83ba7-b563-4dd4-b1c7-4a1e71eb78de",
   "metadata": {},
   "outputs": [
    {
     "name": "stdout",
     "output_type": "stream",
     "text": [
      "<class 'torch.Tensor'>\n",
      "<class 'numpy.ndarray'>\n"
     ]
    }
   ],
   "source": [
    "a = torch.ones(2,2)\n",
    "b = a.numpy()\n",
    "print(type(a))\n",
    "print(type(b))"
   ]
  },
  {
   "cell_type": "code",
   "execution_count": 49,
   "id": "6c235f28-6c33-496c-9fed-2be9677f720d",
   "metadata": {},
   "outputs": [
    {
     "name": "stdout",
     "output_type": "stream",
     "text": [
      "tensor([[14., 14.],\n",
      "        [14., 14.]])\n",
      "[[1. 1.]\n",
      " [1. 1.]]\n"
     ]
    }
   ],
   "source": [
    "a = a + 2\n",
    "print(a)\n",
    "print(b)"
   ]
  },
  {
   "cell_type": "markdown",
   "id": "42a23a9e-39c7-44ab-b8df-30e5d1bbd1e4",
   "metadata": {},
   "source": [
    "### numpy数组转换为张量"
   ]
  },
  {
   "cell_type": "code",
   "execution_count": 52,
   "id": "956659e2-0ca2-4a3e-8fc7-4dc34f46524d",
   "metadata": {},
   "outputs": [
    {
     "name": "stdout",
     "output_type": "stream",
     "text": [
      "<class 'numpy.ndarray'>\n",
      "<class 'torch.Tensor'>\n"
     ]
    }
   ],
   "source": [
    "import numpy as np\n",
    "import torch\n",
    "a = np.array([[1,1],[1,1]])\n",
    "b = torch.from_numpy(a)\n",
    "print(type(a))\n",
    "print(type(b))"
   ]
  },
  {
   "cell_type": "code",
   "execution_count": 53,
   "id": "7ad262b2-350a-450e-9490-0ed8ee46cf22",
   "metadata": {},
   "outputs": [
    {
     "data": {
      "text/plain": [
       "array([[2, 2],\n",
       "       [2, 2]])"
      ]
     },
     "execution_count": 53,
     "metadata": {},
     "output_type": "execute_result"
    }
   ],
   "source": [
    "np.add(a,1,out=a)"
   ]
  },
  {
   "cell_type": "code",
   "execution_count": 54,
   "id": "3270715e-fe89-40ea-98f4-1e3c96566ac6",
   "metadata": {},
   "outputs": [
    {
     "name": "stdout",
     "output_type": "stream",
     "text": [
      "tensor([[2, 2],\n",
      "        [2, 2]])\n"
     ]
    }
   ],
   "source": [
    "print(b)"
   ]
  },
  {
   "cell_type": "markdown",
   "id": "8a3ba69d-4a39-4e6a-83a9-7dcb4f79cda9",
   "metadata": {},
   "source": [
    "### CUDA 张量"
   ]
  },
  {
   "cell_type": "code",
   "execution_count": 59,
   "id": "05b3939e-8514-4e51-89a0-e7a326bffcf5",
   "metadata": {},
   "outputs": [
    {
     "name": "stdout",
     "output_type": "stream",
     "text": [
      "gpu not exits\n"
     ]
    }
   ],
   "source": [
    "a = torch.ones(2,2)\n",
    "if torch.cuda.is_available():\n",
    "    a_cuda = a.cuda()\n",
    "    print(a_cuda)\n",
    "else:\n",
    "    print('gpu not exits')"
   ]
  },
  {
   "cell_type": "markdown",
   "id": "a03e251d-e2be-46b9-91f0-0a5fa9e0b8b8",
   "metadata": {},
   "source": [
    "## 自动求导"
   ]
  },
  {
   "cell_type": "markdown",
   "id": "05bcd54c-bf44-4231-9a31-b68358aa0dac",
   "metadata": {},
   "source": [
    "### 深度学习的本质是通过反向传播求导数！！！"
   ]
  },
  {
   "cell_type": "code",
   "execution_count": 66,
   "id": "cd8d560f-0a2b-4e22-af04-ff2d1c1a076a",
   "metadata": {},
   "outputs": [
    {
     "name": "stdout",
     "output_type": "stream",
     "text": [
      "True\n",
      "True\n"
     ]
    }
   ],
   "source": [
    "x = torch.ones(2,2,requires_grad = True)\n",
    "print(x.requires_grad)\n",
    "y = torch.ones(2,2,requires_grad = True)\n",
    "print(y.requires_grad)"
   ]
  },
  {
   "cell_type": "markdown",
   "id": "b59d6028-91ad-4283-a400-09f04c0e0667",
   "metadata": {},
   "source": [
    "### 返回值是标量"
   ]
  },
  {
   "cell_type": "code",
   "execution_count": 67,
   "id": "db1dde21-2f89-4843-acac-771f517a5ab6",
   "metadata": {},
   "outputs": [
    {
     "name": "stdout",
     "output_type": "stream",
     "text": [
      "tensor(2., grad_fn=<MeanBackward0>)\n"
     ]
    }
   ],
   "source": [
    "z = x + y\n",
    "z = z.mean()\n",
    "print(z)"
   ]
  },
  {
   "cell_type": "code",
   "execution_count": 68,
   "id": "c47f2624-d6b1-4a04-ab92-3ffd997819cf",
   "metadata": {},
   "outputs": [],
   "source": [
    "z.backward() # 反向传播"
   ]
  },
  {
   "cell_type": "code",
   "execution_count": 69,
   "id": "b9c67d57-a657-4620-b4ca-955fe29e0a2f",
   "metadata": {},
   "outputs": [
    {
     "name": "stdout",
     "output_type": "stream",
     "text": [
      "tensor([[0.2500, 0.2500],\n",
      "        [0.2500, 0.2500]])\n",
      "tensor([[0.2500, 0.2500],\n",
      "        [0.2500, 0.2500]])\n"
     ]
    }
   ],
   "source": [
    "print(x.grad)\n",
    "print(y.grad)"
   ]
  },
  {
   "cell_type": "markdown",
   "id": "5c4a9847-0a23-4ad5-b466-336655d6803a",
   "metadata": {},
   "source": [
    "### 返回值是张量"
   ]
  },
  {
   "cell_type": "code",
   "execution_count": 70,
   "id": "746ef78e-8ace-4733-b8ec-d7bfc11edb0d",
   "metadata": {},
   "outputs": [],
   "source": [
    "z = (2 * x) + (3 * y)"
   ]
  },
  {
   "cell_type": "code",
   "execution_count": 71,
   "id": "6bf91c95-16d5-42a0-b621-365da18be2a6",
   "metadata": {},
   "outputs": [],
   "source": [
    "z.backward(torch.ones_like(z)) # 如果z不是一个标量，则需要传入一个大小相同的张量"
   ]
  },
  {
   "cell_type": "code",
   "execution_count": 72,
   "id": "cfb42869-f463-48b2-b937-c05e49a49076",
   "metadata": {},
   "outputs": [
    {
     "name": "stdout",
     "output_type": "stream",
     "text": [
      "tensor([[2.2500, 2.2500],\n",
      "        [2.2500, 2.2500]])\n",
      "tensor([[3.2500, 3.2500],\n",
      "        [3.2500, 3.2500]])\n"
     ]
    }
   ],
   "source": [
    "print(x.grad)\n",
    "print(y.grad)"
   ]
  },
  {
   "cell_type": "markdown",
   "id": "e961dd86-8b68-40aa-8163-cf926265345f",
   "metadata": {},
   "source": [
    "## torch.nn 搭建模型"
   ]
  },
  {
   "cell_type": "code",
   "execution_count": 75,
   "id": "b11137f9-2cbe-4bda-94fc-7e768f1d84fe",
   "metadata": {},
   "outputs": [],
   "source": [
    "import torch\n",
    "import torch.nn as nn"
   ]
  },
  {
   "cell_type": "code",
   "execution_count": 76,
   "id": "6409ccea-b64b-42ef-8aac-08337629ef4b",
   "metadata": {},
   "outputs": [],
   "source": [
    "class net_name(nn.Module):\n",
    "    def __init__(self):\n",
    "        super(net_name, self).__init__()\n",
    "        self.fc = nn.Linear(1, 1)\n",
    "        # 其他层\n",
    "    \n",
    "    def forward(self, x):\n",
    "        out = self.fc(x)\n",
    "        return out"
   ]
  },
  {
   "cell_type": "code",
   "execution_count": 78,
   "id": "3ec7c42d-0e26-49a6-bda6-6bf1efea152f",
   "metadata": {},
   "outputs": [
    {
     "name": "stdout",
     "output_type": "stream",
     "text": [
      "net_name(\n",
      "  (fc): Linear(in_features=1, out_features=1, bias=True)\n",
      ")\n"
     ]
    }
   ],
   "source": [
    "net = net_name()\n",
    "print(net)"
   ]
  },
  {
   "cell_type": "markdown",
   "id": "a46e5742-f44a-4f94-9633-24e70abb3f1e",
   "metadata": {},
   "source": [
    "## torch.optim"
   ]
  },
  {
   "cell_type": "code",
   "execution_count": 79,
   "id": "3a776172-2959-4a58-a5f9-348a83a09e07",
   "metadata": {},
   "outputs": [],
   "source": [
    "import torch.optim as optim"
   ]
  },
  {
   "cell_type": "code",
   "execution_count": 83,
   "id": "d4259a7e-80ec-4150-b3fb-366c69d472f7",
   "metadata": {},
   "outputs": [
    {
     "ename": "AttributeError",
     "evalue": "'list' object has no attribute 'size'",
     "output_type": "error",
     "traceback": [
      "\u001b[0;31m---------------------------------------------------------------------------\u001b[0m",
      "\u001b[0;31mAttributeError\u001b[0m                            Traceback (most recent call last)",
      "Input \u001b[0;32mIn [83]\u001b[0m, in \u001b[0;36m<cell line: 4>\u001b[0;34m()\u001b[0m\n\u001b[1;32m      2\u001b[0m output \u001b[38;5;241m=\u001b[39m [\u001b[38;5;241m2\u001b[39m] \u001b[38;5;66;03m# oh no\u001b[39;00m\n\u001b[1;32m      3\u001b[0m target \u001b[38;5;241m=\u001b[39m [\u001b[38;5;241m3\u001b[39m] \u001b[38;5;66;03m# oh no\u001b[39;00m\n\u001b[0;32m----> 4\u001b[0m loss \u001b[38;5;241m=\u001b[39m \u001b[43mcriterion\u001b[49m\u001b[43m(\u001b[49m\u001b[43moutput\u001b[49m\u001b[43m,\u001b[49m\u001b[43mtarget\u001b[49m\u001b[43m)\u001b[49m\n\u001b[1;32m      5\u001b[0m \u001b[38;5;28mprint\u001b[39m(loss)\n",
      "File \u001b[0;32m~/opt/anaconda3/envs/jupyterlab/lib/python3.10/site-packages/torch/nn/modules/module.py:1130\u001b[0m, in \u001b[0;36mModule._call_impl\u001b[0;34m(self, *input, **kwargs)\u001b[0m\n\u001b[1;32m   1126\u001b[0m \u001b[38;5;66;03m# If we don't have any hooks, we want to skip the rest of the logic in\u001b[39;00m\n\u001b[1;32m   1127\u001b[0m \u001b[38;5;66;03m# this function, and just call forward.\u001b[39;00m\n\u001b[1;32m   1128\u001b[0m \u001b[38;5;28;01mif\u001b[39;00m \u001b[38;5;129;01mnot\u001b[39;00m (\u001b[38;5;28mself\u001b[39m\u001b[38;5;241m.\u001b[39m_backward_hooks \u001b[38;5;129;01mor\u001b[39;00m \u001b[38;5;28mself\u001b[39m\u001b[38;5;241m.\u001b[39m_forward_hooks \u001b[38;5;129;01mor\u001b[39;00m \u001b[38;5;28mself\u001b[39m\u001b[38;5;241m.\u001b[39m_forward_pre_hooks \u001b[38;5;129;01mor\u001b[39;00m _global_backward_hooks\n\u001b[1;32m   1129\u001b[0m         \u001b[38;5;129;01mor\u001b[39;00m _global_forward_hooks \u001b[38;5;129;01mor\u001b[39;00m _global_forward_pre_hooks):\n\u001b[0;32m-> 1130\u001b[0m     \u001b[38;5;28;01mreturn\u001b[39;00m \u001b[43mforward_call\u001b[49m\u001b[43m(\u001b[49m\u001b[38;5;241;43m*\u001b[39;49m\u001b[38;5;28;43minput\u001b[39;49m\u001b[43m,\u001b[49m\u001b[43m \u001b[49m\u001b[38;5;241;43m*\u001b[39;49m\u001b[38;5;241;43m*\u001b[39;49m\u001b[43mkwargs\u001b[49m\u001b[43m)\u001b[49m\n\u001b[1;32m   1131\u001b[0m \u001b[38;5;66;03m# Do not call functions when jit is used\u001b[39;00m\n\u001b[1;32m   1132\u001b[0m full_backward_hooks, non_full_backward_hooks \u001b[38;5;241m=\u001b[39m [], []\n",
      "File \u001b[0;32m~/opt/anaconda3/envs/jupyterlab/lib/python3.10/site-packages/torch/nn/modules/loss.py:530\u001b[0m, in \u001b[0;36mMSELoss.forward\u001b[0;34m(self, input, target)\u001b[0m\n\u001b[1;32m    529\u001b[0m \u001b[38;5;28;01mdef\u001b[39;00m \u001b[38;5;21mforward\u001b[39m(\u001b[38;5;28mself\u001b[39m, \u001b[38;5;28minput\u001b[39m: Tensor, target: Tensor) \u001b[38;5;241m-\u001b[39m\u001b[38;5;241m>\u001b[39m Tensor:\n\u001b[0;32m--> 530\u001b[0m     \u001b[38;5;28;01mreturn\u001b[39;00m \u001b[43mF\u001b[49m\u001b[38;5;241;43m.\u001b[39;49m\u001b[43mmse_loss\u001b[49m\u001b[43m(\u001b[49m\u001b[38;5;28;43minput\u001b[39;49m\u001b[43m,\u001b[49m\u001b[43m \u001b[49m\u001b[43mtarget\u001b[49m\u001b[43m,\u001b[49m\u001b[43m \u001b[49m\u001b[43mreduction\u001b[49m\u001b[38;5;241;43m=\u001b[39;49m\u001b[38;5;28;43mself\u001b[39;49m\u001b[38;5;241;43m.\u001b[39;49m\u001b[43mreduction\u001b[49m\u001b[43m)\u001b[49m\n",
      "File \u001b[0;32m~/opt/anaconda3/envs/jupyterlab/lib/python3.10/site-packages/torch/nn/functional.py:3269\u001b[0m, in \u001b[0;36mmse_loss\u001b[0;34m(input, target, size_average, reduce, reduction)\u001b[0m\n\u001b[1;32m   3265\u001b[0m \u001b[38;5;28;01mif\u001b[39;00m has_torch_function_variadic(\u001b[38;5;28minput\u001b[39m, target):\n\u001b[1;32m   3266\u001b[0m     \u001b[38;5;28;01mreturn\u001b[39;00m handle_torch_function(\n\u001b[1;32m   3267\u001b[0m         mse_loss, (\u001b[38;5;28minput\u001b[39m, target), \u001b[38;5;28minput\u001b[39m, target, size_average\u001b[38;5;241m=\u001b[39msize_average, reduce\u001b[38;5;241m=\u001b[39mreduce, reduction\u001b[38;5;241m=\u001b[39mreduction\n\u001b[1;32m   3268\u001b[0m     )\n\u001b[0;32m-> 3269\u001b[0m \u001b[38;5;28;01mif\u001b[39;00m \u001b[38;5;129;01mnot\u001b[39;00m (\u001b[43mtarget\u001b[49m\u001b[38;5;241;43m.\u001b[39;49m\u001b[43msize\u001b[49m() \u001b[38;5;241m==\u001b[39m \u001b[38;5;28minput\u001b[39m\u001b[38;5;241m.\u001b[39msize()):\n\u001b[1;32m   3270\u001b[0m     warnings\u001b[38;5;241m.\u001b[39mwarn(\n\u001b[1;32m   3271\u001b[0m         \u001b[38;5;124m\"\u001b[39m\u001b[38;5;124mUsing a target size (\u001b[39m\u001b[38;5;132;01m{}\u001b[39;00m\u001b[38;5;124m) that is different to the input size (\u001b[39m\u001b[38;5;132;01m{}\u001b[39;00m\u001b[38;5;124m). \u001b[39m\u001b[38;5;124m\"\u001b[39m\n\u001b[1;32m   3272\u001b[0m         \u001b[38;5;124m\"\u001b[39m\u001b[38;5;124mThis will likely lead to incorrect results due to broadcasting. \u001b[39m\u001b[38;5;124m\"\u001b[39m\n\u001b[1;32m   3273\u001b[0m         \u001b[38;5;124m\"\u001b[39m\u001b[38;5;124mPlease ensure they have the same size.\u001b[39m\u001b[38;5;124m\"\u001b[39m\u001b[38;5;241m.\u001b[39mformat(target\u001b[38;5;241m.\u001b[39msize(), \u001b[38;5;28minput\u001b[39m\u001b[38;5;241m.\u001b[39msize()),\n\u001b[1;32m   3274\u001b[0m         stacklevel\u001b[38;5;241m=\u001b[39m\u001b[38;5;241m2\u001b[39m,\n\u001b[1;32m   3275\u001b[0m     )\n\u001b[1;32m   3276\u001b[0m \u001b[38;5;28;01mif\u001b[39;00m size_average \u001b[38;5;129;01mis\u001b[39;00m \u001b[38;5;129;01mnot\u001b[39;00m \u001b[38;5;28;01mNone\u001b[39;00m \u001b[38;5;129;01mor\u001b[39;00m reduce \u001b[38;5;129;01mis\u001b[39;00m \u001b[38;5;129;01mnot\u001b[39;00m \u001b[38;5;28;01mNone\u001b[39;00m:\n",
      "\u001b[0;31mAttributeError\u001b[0m: 'list' object has no attribute 'size'"
     ]
    }
   ],
   "source": [
    "criterion = nn.MSELoss() # 损失函数\n",
    "output = [2] # oh no\n",
    "target = [3] # oh no\n",
    "loss = criterion(output,target)\n",
    "print(loss)"
   ]
  },
  {
   "cell_type": "code",
   "execution_count": null,
   "id": "24de0b04-4ff4-400e-aaf4-48aab2f61aad",
   "metadata": {},
   "outputs": [],
   "source": [
    "optimizer = optim.SGD(net.parameters(), lr = 0.01) # 随机梯度下降算法"
   ]
  },
  {
   "cell_type": "code",
   "execution_count": null,
   "id": "7fba0add-afe1-4169-903b-fa9b19059f2c",
   "metadata": {},
   "outputs": [],
   "source": [
    "optimizer.zero_grad()     # 梯度清零\n",
    "output = net(input)\n",
    "loss = criterion(output, target)　　　\n",
    "loss.backward()\n",
    "optimizer.step()          # 完成更新"
   ]
  }
 ],
 "metadata": {
  "kernelspec": {
   "display_name": "Python 3 (ipykernel)",
   "language": "python",
   "name": "python3"
  },
  "language_info": {
   "codemirror_mode": {
    "name": "ipython",
    "version": 3
   },
   "file_extension": ".py",
   "mimetype": "text/x-python",
   "name": "python",
   "nbconvert_exporter": "python",
   "pygments_lexer": "ipython3",
   "version": "3.10.4"
  }
 },
 "nbformat": 4,
 "nbformat_minor": 5
}
