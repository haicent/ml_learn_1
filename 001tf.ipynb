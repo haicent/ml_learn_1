{
 "cells": [
  {
   "cell_type": "markdown",
   "id": "a16a454b-71a0-41b1-bccf-aa3052e4d98b",
   "metadata": {},
   "source": [
    "# tensorflow学习"
   ]
  },
  {
   "cell_type": "markdown",
   "id": "36b5b005-e28c-411a-8d7c-854ddfd99e5e",
   "metadata": {},
   "source": [
    "## 验证安装成功"
   ]
  },
  {
   "cell_type": "code",
   "execution_count": 7,
   "id": "3406479c-1b82-4808-8a2a-838e034271c2",
   "metadata": {},
   "outputs": [
    {
     "name": "stdout",
     "output_type": "stream",
     "text": [
      "2.0.0\n"
     ]
    }
   ],
   "source": [
    "import os\n",
    "os.environ['TF_CPP_MIN_LOG_LEVEL']='2'\n",
    "\n",
    "import tensorflow as tf\n",
    "print(tf.__version__)"
   ]
  },
  {
   "cell_type": "markdown",
   "id": "6525f919-fc1a-4d34-9947-2fc697f125ed",
   "metadata": {},
   "source": [
    "## 张量定义"
   ]
  },
  {
   "cell_type": "code",
   "execution_count": 8,
   "id": "7e8306d4-d4f3-4330-86ca-b60e1c24b440",
   "metadata": {},
   "outputs": [],
   "source": [
    "c0 = tf.constant(2, name='c0') # 0阶张量\n",
    "c1 = tf.constant([1, 2, 3], name='c1') # 1阶张量\n",
    "c2 = tf.constant([[1,2],[3,4]], name='c2') # 2阶张量"
   ]
  },
  {
   "cell_type": "code",
   "execution_count": 10,
   "id": "6b04241a-0323-4e32-990c-ccaef4049fc9",
   "metadata": {},
   "outputs": [
    {
     "name": "stdout",
     "output_type": "stream",
     "text": [
      "tf.Tensor(2, shape=(), dtype=int32)\n",
      "tf.Tensor([1 2 3], shape=(3,), dtype=int32)\n",
      "tf.Tensor(\n",
      "[[1 2]\n",
      " [3 4]], shape=(2, 2), dtype=int32)\n"
     ]
    }
   ],
   "source": [
    "print(c0)\n",
    "print(c1)\n",
    "print(c2)"
   ]
  },
  {
   "cell_type": "markdown",
   "id": "2d01e0d6-bee8-4e2c-93e6-41089bca5a3b",
   "metadata": {},
   "source": [
    "## 张量的数学运算"
   ]
  },
  {
   "cell_type": "code",
   "execution_count": 15,
   "id": "1f3c7165-ea3d-4684-a301-2675f5c9bce6",
   "metadata": {},
   "outputs": [
    {
     "data": {
      "text/plain": [
       "<tf.Tensor: id=19, shape=(2, 2), dtype=int32, numpy=\n",
       "array([[ 6,  8],\n",
       "       [10, 12]], dtype=int32)>"
      ]
     },
     "execution_count": 15,
     "metadata": {},
     "output_type": "execute_result"
    }
   ],
   "source": [
    "a = tf.constant([[1,2],[3,4]],name='a')\n",
    "b = tf.constant([[5,6],[7,8]],name='b')\n",
    "# 加法\n",
    "tf.add(a,b,name='add')"
   ]
  },
  {
   "cell_type": "code",
   "execution_count": 16,
   "id": "f1d046bb-4bb0-4a8c-871c-8aa616d7a2c1",
   "metadata": {},
   "outputs": [
    {
     "data": {
      "text/plain": [
       "<tf.Tensor: id=20, shape=(2, 2), dtype=int32, numpy=\n",
       "array([[-4, -4],\n",
       "       [-4, -4]], dtype=int32)>"
      ]
     },
     "execution_count": 16,
     "metadata": {},
     "output_type": "execute_result"
    }
   ],
   "source": [
    "# 减法\n",
    "tf.subtract(a,b,name='sub')"
   ]
  },
  {
   "cell_type": "code",
   "execution_count": 17,
   "id": "26d82552-bae6-4a65-bea8-04f76b736265",
   "metadata": {},
   "outputs": [
    {
     "data": {
      "text/plain": [
       "<tf.Tensor: id=21, shape=(2, 2), dtype=int32, numpy=\n",
       "array([[ 5, 12],\n",
       "       [21, 32]], dtype=int32)>"
      ]
     },
     "execution_count": 17,
     "metadata": {},
     "output_type": "execute_result"
    }
   ],
   "source": [
    "# 对应元素相乘\n",
    "tf.multiply(a,b,name='multiply')"
   ]
  },
  {
   "cell_type": "code",
   "execution_count": 18,
   "id": "122dbd41-6ef3-4db9-abfd-51c3134ae8a1",
   "metadata": {},
   "outputs": [
    {
     "data": {
      "text/plain": [
       "<tf.Tensor: id=22, shape=(2, 2), dtype=int32, numpy=\n",
       "array([[19, 22],\n",
       "       [43, 50]], dtype=int32)>"
      ]
     },
     "execution_count": 18,
     "metadata": {},
     "output_type": "execute_result"
    }
   ],
   "source": [
    "# 对应矩阵相乘\n",
    "tf.matmul(a,b,name='matmul')"
   ]
  },
  {
   "cell_type": "code",
   "execution_count": null,
   "id": "fa2fcd15-b606-415e-aaf6-d4cd96241295",
   "metadata": {},
   "outputs": [],
   "source": []
  }
 ],
 "metadata": {
  "kernelspec": {
   "display_name": "Python 3 (ipykernel)",
   "language": "python",
   "name": "python3"
  },
  "language_info": {
   "codemirror_mode": {
    "name": "ipython",
    "version": 3
   },
   "file_extension": ".py",
   "mimetype": "text/x-python",
   "name": "python",
   "nbconvert_exporter": "python",
   "pygments_lexer": "ipython3",
   "version": "3.7.13"
  }
 },
 "nbformat": 4,
 "nbformat_minor": 5
}
