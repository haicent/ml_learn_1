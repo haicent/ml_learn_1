{
 "cells": [
  {
   "cell_type": "markdown",
   "id": "742ade0a-6904-469c-960a-2fe16e941adf",
   "metadata": {},
   "source": [
    "## 导入numpy"
   ]
  },
  {
   "cell_type": "code",
   "execution_count": 4,
   "id": "9f3202c2-d652-431a-b14d-68509b4602c5",
   "metadata": {},
   "outputs": [],
   "source": [
    "import numpy as np"
   ]
  },
  {
   "cell_type": "markdown",
   "id": "411b44ac-4daa-497e-985e-eaf3fa8cd056",
   "metadata": {},
   "source": [
    "## numpy 数组"
   ]
  },
  {
   "cell_type": "code",
   "execution_count": 6,
   "id": "afe94da0-77fc-44a1-92b0-bd70d6df3a53",
   "metadata": {},
   "outputs": [],
   "source": [
    "a = np.array([1,2,3,4])"
   ]
  },
  {
   "cell_type": "code",
   "execution_count": 8,
   "id": "8cfb9348-d7ab-4d36-8859-38ca01ab6086",
   "metadata": {},
   "outputs": [
    {
     "name": "stdout",
     "output_type": "stream",
     "text": [
      "[1 2 3 4]\n"
     ]
    }
   ],
   "source": [
    "print(a)"
   ]
  },
  {
   "cell_type": "code",
   "execution_count": 9,
   "id": "f6a697ae-5542-4f48-8a26-e4a25be8115e",
   "metadata": {},
   "outputs": [
    {
     "data": {
      "text/plain": [
       "numpy.ndarray"
      ]
     },
     "execution_count": 9,
     "metadata": {},
     "output_type": "execute_result"
    }
   ],
   "source": [
    "type(a)"
   ]
  },
  {
   "cell_type": "code",
   "execution_count": 11,
   "id": "44c36ce4-1485-4fca-83a3-3ebe17abe435",
   "metadata": {},
   "outputs": [],
   "source": [
    "b = np.array([[1,2],[3,4],[5,6]])"
   ]
  },
  {
   "cell_type": "code",
   "execution_count": 12,
   "id": "069dbe6d-22c6-4822-aa2b-d77d2f3a8653",
   "metadata": {},
   "outputs": [
    {
     "name": "stdout",
     "output_type": "stream",
     "text": [
      "[[1 2]\n",
      " [3 4]\n",
      " [5 6]]\n"
     ]
    }
   ],
   "source": [
    "print(b)"
   ]
  },
  {
   "cell_type": "code",
   "execution_count": 13,
   "id": "fd36b0a2-b26c-43be-82b6-10328d4c44b0",
   "metadata": {},
   "outputs": [
    {
     "data": {
      "text/plain": [
       "numpy.ndarray"
      ]
     },
     "execution_count": 13,
     "metadata": {},
     "output_type": "execute_result"
    }
   ],
   "source": [
    "type(b)"
   ]
  },
  {
   "cell_type": "markdown",
   "id": "571acf6b-4b84-4440-81d8-533f22e5505b",
   "metadata": {},
   "source": [
    "> 注：在数学中一般叫一维数组为向量，称二维数组为矩阵，称三维数组为张量"
   ]
  },
  {
   "cell_type": "markdown",
   "id": "f18da3af-3999-44b2-8a70-84848cd64079",
   "metadata": {},
   "source": [
    "## numpy数学运算"
   ]
  },
  {
   "cell_type": "code",
   "execution_count": 14,
   "id": "af728128-37bb-43a4-9c29-06ff57975b65",
   "metadata": {},
   "outputs": [],
   "source": [
    "x = np.array([1,2,3])"
   ]
  },
  {
   "cell_type": "code",
   "execution_count": 15,
   "id": "b12ed579-d94a-4292-a2da-808a6db5cf84",
   "metadata": {},
   "outputs": [],
   "source": [
    "y = np.array([2,4,6])"
   ]
  },
  {
   "cell_type": "code",
   "execution_count": 16,
   "id": "cd694a97-e2c7-4246-acd9-650dcd478fd0",
   "metadata": {},
   "outputs": [
    {
     "data": {
      "text/plain": [
       "array([3, 6, 9])"
      ]
     },
     "execution_count": 16,
     "metadata": {},
     "output_type": "execute_result"
    }
   ],
   "source": [
    "x + y"
   ]
  },
  {
   "cell_type": "code",
   "execution_count": 17,
   "id": "1bdd4461-37c5-4b5d-b8e2-4b8f94e1981c",
   "metadata": {},
   "outputs": [
    {
     "data": {
      "text/plain": [
       "array([-1, -2, -3])"
      ]
     },
     "execution_count": 17,
     "metadata": {},
     "output_type": "execute_result"
    }
   ],
   "source": [
    "x - y"
   ]
  },
  {
   "cell_type": "code",
   "execution_count": 18,
   "id": "7d4e467e-898e-4ca1-b7f7-b8d02ec631cd",
   "metadata": {},
   "outputs": [
    {
     "data": {
      "text/plain": [
       "array([ 2,  8, 18])"
      ]
     },
     "execution_count": 18,
     "metadata": {},
     "output_type": "execute_result"
    }
   ],
   "source": [
    "x * y"
   ]
  },
  {
   "cell_type": "code",
   "execution_count": 19,
   "id": "16058802-6a3b-444e-98c2-f93ce5586983",
   "metadata": {},
   "outputs": [
    {
     "data": {
      "text/plain": [
       "array([0.5, 0.5, 0.5])"
      ]
     },
     "execution_count": 19,
     "metadata": {},
     "output_type": "execute_result"
    }
   ],
   "source": [
    "x / y"
   ]
  },
  {
   "cell_type": "markdown",
   "id": "82fb6543-2056-430b-9f03-5540b339e8da",
   "metadata": {},
   "source": [
    "numpy可以通过索引或切片来方位和修改nparray"
   ]
  },
  {
   "cell_type": "code",
   "execution_count": 20,
   "id": "6d7b1649-a212-4387-8dcf-daf9a24358d4",
   "metadata": {},
   "outputs": [],
   "source": [
    "a = np.array([1,2,3,4])"
   ]
  },
  {
   "cell_type": "code",
   "execution_count": 21,
   "id": "6fa1effd-debc-4af2-b083-01d6c37fd802",
   "metadata": {},
   "outputs": [
    {
     "data": {
      "text/plain": [
       "1"
      ]
     },
     "execution_count": 21,
     "metadata": {},
     "output_type": "execute_result"
    }
   ],
   "source": [
    "a[0]"
   ]
  },
  {
   "cell_type": "code",
   "execution_count": 22,
   "id": "1030e30c-feb2-4cf0-8535-7af150855bef",
   "metadata": {},
   "outputs": [
    {
     "data": {
      "text/plain": [
       "array([1, 2])"
      ]
     },
     "execution_count": 22,
     "metadata": {},
     "output_type": "execute_result"
    }
   ],
   "source": [
    "a[0:2]"
   ]
  },
  {
   "cell_type": "code",
   "execution_count": 23,
   "id": "b538a624-f50b-4d82-a3c9-027eb7ab40f0",
   "metadata": {},
   "outputs": [],
   "source": [
    "a[0] = 10"
   ]
  },
  {
   "cell_type": "code",
   "execution_count": 24,
   "id": "9013aefc-e593-442d-a1a4-c5878dd8f73e",
   "metadata": {},
   "outputs": [
    {
     "data": {
      "text/plain": [
       "array([10,  2,  3,  4])"
      ]
     },
     "execution_count": 24,
     "metadata": {},
     "output_type": "execute_result"
    }
   ],
   "source": [
    "a"
   ]
  },
  {
   "cell_type": "markdown",
   "id": "47d121c7-8d77-42c4-8da7-c750d8acf1f4",
   "metadata": {},
   "source": [
    "## numpy 广播机制"
   ]
  },
  {
   "cell_type": "markdown",
   "id": "cb9de4b6-8d38-4042-9885-dd83e26b3a6e",
   "metadata": {},
   "source": [
    "二维数组 + 标量 的广播机制"
   ]
  },
  {
   "cell_type": "code",
   "execution_count": 25,
   "id": "8efe9154-85ed-4072-aa62-982feb8440d4",
   "metadata": {},
   "outputs": [],
   "source": [
    "A = np.array([[1,2],[3,4]])"
   ]
  },
  {
   "cell_type": "code",
   "execution_count": 26,
   "id": "2c350190-0ca7-4352-abd8-41d58b3dcf11",
   "metadata": {},
   "outputs": [],
   "source": [
    "b = 2"
   ]
  },
  {
   "cell_type": "code",
   "execution_count": 27,
   "id": "d8f82dcb-898f-48c9-a3c1-e8007827937e",
   "metadata": {},
   "outputs": [
    {
     "data": {
      "text/plain": [
       "array([[3, 4],\n",
       "       [5, 6]])"
      ]
     },
     "execution_count": 27,
     "metadata": {},
     "output_type": "execute_result"
    }
   ],
   "source": [
    "A + b"
   ]
  },
  {
   "cell_type": "markdown",
   "id": "d13ed84b-ea0a-4515-bf6b-be8279ae4457",
   "metadata": {},
   "source": [
    "二维数组 + 一维数组 的广播机制"
   ]
  },
  {
   "cell_type": "code",
   "execution_count": 28,
   "id": "104d977a-5b4b-4eef-996f-c141ce783b9c",
   "metadata": {},
   "outputs": [],
   "source": [
    "A = np.array([[1,2,3],[4,5,6],[7,8,9]])"
   ]
  },
  {
   "cell_type": "code",
   "execution_count": 31,
   "id": "856e6121-4e98-4f1c-9c7e-2e31fe19fc2e",
   "metadata": {},
   "outputs": [],
   "source": [
    "b = np.array([2,2,2])"
   ]
  },
  {
   "cell_type": "code",
   "execution_count": 32,
   "id": "95d31688-10fa-4d66-95d9-957b58062003",
   "metadata": {},
   "outputs": [
    {
     "data": {
      "text/plain": [
       "array([[ 3,  4,  5],\n",
       "       [ 6,  7,  8],\n",
       "       [ 9, 10, 11]])"
      ]
     },
     "execution_count": 32,
     "metadata": {},
     "output_type": "execute_result"
    }
   ],
   "source": [
    "A + b"
   ]
  },
  {
   "cell_type": "markdown",
   "id": "d28655fc-d99f-4b00-a807-236da2a16d8a",
   "metadata": {},
   "source": [
    "一维数组转换为二维数组"
   ]
  },
  {
   "cell_type": "code",
   "execution_count": 33,
   "id": "392de045-ba8c-41a4-b9f5-9f6a9db299a2",
   "metadata": {},
   "outputs": [],
   "source": [
    "a = np.array([1,2])"
   ]
  },
  {
   "cell_type": "code",
   "execution_count": 34,
   "id": "9b97429c-83d8-4113-9b34-955afdccd9a6",
   "metadata": {},
   "outputs": [
    {
     "data": {
      "text/plain": [
       "array([1, 2])"
      ]
     },
     "execution_count": 34,
     "metadata": {},
     "output_type": "execute_result"
    }
   ],
   "source": [
    "a"
   ]
  },
  {
   "cell_type": "code",
   "execution_count": 35,
   "id": "a652bac5-4faa-47fb-9ac3-8d5aec2448fd",
   "metadata": {},
   "outputs": [],
   "source": [
    "a = a.reshape(1, -1)"
   ]
  },
  {
   "cell_type": "code",
   "execution_count": 36,
   "id": "dc8deb8d-a9f4-43d2-9acd-5d8c919f897c",
   "metadata": {},
   "outputs": [
    {
     "data": {
      "text/plain": [
       "array([[1, 2]])"
      ]
     },
     "execution_count": 36,
     "metadata": {},
     "output_type": "execute_result"
    }
   ],
   "source": [
    "a"
   ]
  },
  {
   "cell_type": "markdown",
   "id": "f53a2d55-2447-46fe-b806-6b883fc2f8f6",
   "metadata": {},
   "source": [
    "两个二维数组计算"
   ]
  },
  {
   "cell_type": "code",
   "execution_count": 37,
   "id": "6f578162-0307-447c-bfc7-0ce95d2ffe20",
   "metadata": {},
   "outputs": [],
   "source": [
    "A = np.array([[1],[2]])"
   ]
  },
  {
   "cell_type": "code",
   "execution_count": 41,
   "id": "6908c4d0-0e30-4cae-99a1-1e788ddb972c",
   "metadata": {},
   "outputs": [],
   "source": [
    "B = np.array([[2,2]])"
   ]
  },
  {
   "cell_type": "code",
   "execution_count": 42,
   "id": "60c8b222-e0cb-44b3-aa28-973b5fe7aa8f",
   "metadata": {},
   "outputs": [
    {
     "data": {
      "text/plain": [
       "array([[3, 3],\n",
       "       [4, 4]])"
      ]
     },
     "execution_count": 42,
     "metadata": {},
     "output_type": "execute_result"
    }
   ],
   "source": [
    "A + B"
   ]
  },
  {
   "cell_type": "markdown",
   "id": "c880cf07-7ef2-49c8-8c94-ef0631678ff2",
   "metadata": {},
   "source": [
    "## numpy矩阵运算速度"
   ]
  },
  {
   "cell_type": "code",
   "execution_count": 46,
   "id": "d66212e6-29b0-4c3a-8cba-58f8e48a5764",
   "metadata": {},
   "outputs": [
    {
     "name": "stdout",
     "output_type": "stream",
     "text": [
      "24868.654004469783\n",
      "for loop:57.37495422363281ms\n",
      "24868.654004469747\n",
      "vectorized:1.4600753784179688ms\n"
     ]
    }
   ],
   "source": [
    "import numpy as np\n",
    "import time\n",
    "\n",
    "a = np.random.rand(100000)\n",
    "b = np.random.rand(100000)\n",
    "\n",
    "c = 0\n",
    "tic = time.time()\n",
    "for i in range(100000):\n",
    "    c += a[i] * b[i]\n",
    "toc = time.time()\n",
    "print(c)\n",
    "print(\"for loop:\" + str(1000 * (toc - tic)) + \"ms\")\n",
    "\n",
    "c = 0\n",
    "tic = time.time()\n",
    "c = np.dot(a,b)\n",
    "toc = time.time()\n",
    "print(c)\n",
    "print(\"vectorized:\" + str(1000 * (toc - tic)) + \"ms\")\n",
    "\n"
   ]
  }
 ],
 "metadata": {
  "kernelspec": {
   "display_name": "Python 3 (ipykernel)",
   "language": "python",
   "name": "python3"
  },
  "language_info": {
   "codemirror_mode": {
    "name": "ipython",
    "version": 3
   },
   "file_extension": ".py",
   "mimetype": "text/x-python",
   "name": "python",
   "nbconvert_exporter": "python",
   "pygments_lexer": "ipython3",
   "version": "3.10.4"
  }
 },
 "nbformat": 4,
 "nbformat_minor": 5
}
